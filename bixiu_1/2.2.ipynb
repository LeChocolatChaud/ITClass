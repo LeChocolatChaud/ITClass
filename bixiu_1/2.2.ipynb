{
 "cells": [
  {
   "cell_type": "code",
   "execution_count": 1,
   "id": "a3030c4a",
   "metadata": {},
   "outputs": [],
   "source": [
    "%load_ext jupyter_spaces\n",
    "%load_ext blackcellmagic"
   ]
  },
  {
   "attachments": {},
   "cell_type": "markdown",
   "id": "6ff17e1d",
   "metadata": {},
   "source": [
    "*普通高中教科书 信息技术*\n",
    "\n",
    "*必修一 数据与计算*\n",
    "\n",
    "# 第二章 算法与程序实现 - 第二节\n",
    "\n",
    "本节主要介绍 Python 编程语言的基本语法。\n",
    "\n",
    "## Python 常用数据类型\n",
    "\n",
    "- 整型\n",
    "  - 即整数\n",
    "  - **类型标识符**：`int`\n",
    "  - 例：\n",
    "    - `51`\n",
    "    - `-67`\n",
    "    - `0`\n",
    "- 浮点型\n",
    "  - 即小数（包括科学计数法）\n",
    "  - **类型标识符**：`float`\n",
    "  - 例：\n",
    "    - `3.076`\n",
    "    - `-2e3`\n",
    "- 字符串型\n",
    "  - 一串字符\n",
    "  - **类型标识符**：`str`\n",
    "  - 例：\n",
    "    - `\"Hello\"`\n",
    "    - `'上海'`\n",
    "- 布尔型\n",
    "  - 逻辑判断用值\n",
    "  - **类型标识符**：`bool`\n",
    "  - 只有两种值：`True` 和 `False`\n",
    "\n",
    "### 强制类型转换（强转）\n",
    "\n",
    "\n",
    "Python 中基本数据类型转换通过数据类型转换函数实现：\n",
    "\n",
    "- `float(x: int | str | bool) -> float`\n",
    "  - 将数据`x`转换为一个浮点型数据"
   ]
  },
  {
   "cell_type": "code",
   "execution_count": 2,
   "id": "22650705",
   "metadata": {
    "scrolled": false
   },
   "outputs": [
    {
     "data": {
      "text/plain": [
       "3.0"
      ]
     },
     "execution_count": 2,
     "metadata": {},
     "output_type": "execute_result"
    }
   ],
   "source": [
    "float(3)"
   ]
  },
  {
   "cell_type": "code",
   "execution_count": 3,
   "id": "14effaac",
   "metadata": {
    "scrolled": false
   },
   "outputs": [
    {
     "data": {
      "text/plain": [
       "3.14"
      ]
     },
     "execution_count": 3,
     "metadata": {},
     "output_type": "execute_result"
    }
   ],
   "source": [
    "float(\"3.14\")"
   ]
  },
  {
   "cell_type": "markdown",
   "id": "6c989a29",
   "metadata": {},
   "source": [
    "- `int(x: float | str | bool) -> int`\n",
    "  - 将数据`x`转换为一个整型数据（去尾法）"
   ]
  },
  {
   "cell_type": "code",
   "execution_count": 4,
   "id": "d6329d1d",
   "metadata": {
    "scrolled": false
   },
   "outputs": [
    {
     "data": {
      "text/plain": [
       "2"
      ]
     },
     "execution_count": 4,
     "metadata": {},
     "output_type": "execute_result"
    }
   ],
   "source": [
    "int(2.6)"
   ]
  },
  {
   "cell_type": "code",
   "execution_count": 5,
   "id": "ca3e21d3",
   "metadata": {
    "scrolled": false
   },
   "outputs": [
    {
     "data": {
      "text/plain": [
       "13"
      ]
     },
     "execution_count": 5,
     "metadata": {},
     "output_type": "execute_result"
    }
   ],
   "source": [
    "int(\"13\")"
   ]
  },
  {
   "cell_type": "markdown",
   "id": "8c766ac0",
   "metadata": {},
   "source": [
    "- `str(x: int | float | bool) -> str`\n",
    "  - 将数据`x`转换为字符串型数据 "
   ]
  },
  {
   "cell_type": "code",
   "execution_count": 6,
   "id": "bbb75a06",
   "metadata": {
    "scrolled": false
   },
   "outputs": [
    {
     "data": {
      "text/plain": [
       "'2000.0'"
      ]
     },
     "execution_count": 6,
     "metadata": {},
     "output_type": "execute_result"
    }
   ],
   "source": [
    "str(2e3)"
   ]
  },
  {
   "cell_type": "code",
   "execution_count": 7,
   "id": "e1cf127c",
   "metadata": {
    "scrolled": false
   },
   "outputs": [
    {
     "data": {
      "text/plain": [
       "'True'"
      ]
     },
     "execution_count": 7,
     "metadata": {},
     "output_type": "execute_result"
    }
   ],
   "source": [
    "str(True)"
   ]
  },
  {
   "cell_type": "markdown",
   "id": "e7804ed3",
   "metadata": {},
   "source": [
    "- `bool(x: int | float | str) -> bool`\n",
    "  - 将数据`x`转换为布尔型数据"
   ]
  },
  {
   "cell_type": "code",
   "execution_count": 8,
   "id": "52aba126",
   "metadata": {
    "scrolled": false
   },
   "outputs": [
    {
     "data": {
      "text/plain": [
       "True"
      ]
     },
     "execution_count": 8,
     "metadata": {},
     "output_type": "execute_result"
    }
   ],
   "source": [
    "bool(1)"
   ]
  },
  {
   "cell_type": "code",
   "execution_count": 9,
   "id": "3d2db52c",
   "metadata": {
    "scrolled": false
   },
   "outputs": [
    {
     "data": {
      "text/plain": [
       "False"
      ]
     },
     "execution_count": 9,
     "metadata": {},
     "output_type": "execute_result"
    }
   ],
   "source": [
    "bool(0.0)"
   ]
  },
  {
   "cell_type": "markdown",
   "id": "95bc752f",
   "metadata": {},
   "source": [
    "## Python 中的常量、变量与赋值符\n",
    "\n",
    "-   常量\n",
    "    -   在程序运行过程中不变的量\n",
    "-   变量\n",
    "    -   程序运行过程中可以被改变的量\n",
    "    -   通过变量名进行访问\n",
    "    -   命名规则：\n",
    "        -   由大小写英文字母、数字或下划线组成\n",
    "        -   以英文字母或下划线为首字符，长度不限\n",
    "        -   不能与Python保留字同名\n",
    "        -   大小写敏感\n",
    "    -   数据类型由被赋值的数据对象的类型决定\n",
    "-   赋值符\n",
    "    -   “=”\n",
    "    -   把赋值号右边表达式的计算结果存储到赋值号左边指定的变量中\n",
    "    -   例：`c=3`，就是将`3`赋值给变量`c`\n",
    "\n",
    "## Python 中的运算符与表达式\n",
    "\n",
    "### 表达式\n",
    "\n",
    "-   操作数（参与运算的数据）、变量和运算符的组合\n",
    "-   用来描述数据的计算过程，或描述对于某种情况下所遇到的条件判断\n",
    "-   单独一个操作数或变量都可以看作是表达式\n",
    "-   **一定有返回值**\n",
    "    -   例：\n",
    "    -   `1+2`，返回`3`\n",
    "    -   `\"he\"+\"llo\"`，返回`\"hello\"`\n",
    "    -   `x=1`，返回`None`<br/>`x+2`，返回`3`\n",
    "\n",
    "### 运算符\n",
    "\n",
    "常用的运算符有算术运算符、关系运算符、逻辑运算符等。\n",
    "\n",
    "#### **算术运算符**\n",
    "\n",
    "算术运算符主要用于算术运算，运算结果为整型或浮点型\n",
    "\n",
    "| 运算符 | 描述 | 优先级 |\n",
    "|--------|------|--------|\n",
    "| `+`    | 加法 | 3      |\n",
    "| `-`    | 减法 | 3      |\n",
    "| `*`    | 乘法 | 2      |\n",
    "| `/`    | 除法 | 2      |\n",
    "| `%`    | 取模 | 2      |\n",
    "| `**`   | 幂   | 1      |\n",
    "| `//`   | 整除 | 2      |\n",
    "\n",
    "- 加法\n",
    "    - **运算符**：`+`\n",
    "    - **优先级**：3"
   ]
  },
  {
   "cell_type": "code",
   "execution_count": 10,
   "id": "fbf80899",
   "metadata": {
    "scrolled": false
   },
   "outputs": [
    {
     "data": {
      "text/plain": [
       "68"
      ]
     },
     "execution_count": 10,
     "metadata": {},
     "output_type": "execute_result"
    }
   ],
   "source": [
    "23+45"
   ]
  },
  {
   "cell_type": "markdown",
   "id": "397cf3cd",
   "metadata": {},
   "source": [
    "- 减法\n",
    "    - **运算符**：`-`\n",
    "    - **优先级**：3"
   ]
  },
  {
   "cell_type": "code",
   "execution_count": 11,
   "id": "ccd1f1cc",
   "metadata": {
    "scrolled": false
   },
   "outputs": [
    {
     "data": {
      "text/plain": [
       "44.2"
      ]
     },
     "execution_count": 11,
     "metadata": {},
     "output_type": "execute_result"
    }
   ],
   "source": [
    "78.4-34.2"
   ]
  },
  {
   "cell_type": "markdown",
   "id": "9750d3aa",
   "metadata": {},
   "source": [
    "- 乘法\n",
    "    - **运算符**：`*`\n",
    "    - **优先级**：2"
   ]
  },
  {
   "cell_type": "code",
   "execution_count": 12,
   "id": "3d31ea86",
   "metadata": {
    "scrolled": false
   },
   "outputs": [
    {
     "data": {
      "text/plain": [
       "106.0"
      ]
     },
     "execution_count": 12,
     "metadata": {},
     "output_type": "execute_result"
    }
   ],
   "source": [
    "5.3*20"
   ]
  },
  {
   "cell_type": "markdown",
   "id": "8ef978bd",
   "metadata": {},
   "source": [
    "- 除法\n",
    "    - **运算符**：`/`\n",
    "    - **优先级**：2"
   ]
  },
  {
   "cell_type": "code",
   "execution_count": 13,
   "id": "268e83a4",
   "metadata": {
    "scrolled": false
   },
   "outputs": [
    {
     "data": {
      "text/plain": [
       "0.4"
      ]
     },
     "execution_count": 13,
     "metadata": {},
     "output_type": "execute_result"
    }
   ],
   "source": [
    "2/5"
   ]
  },
  {
   "cell_type": "markdown",
   "id": "9f0ef3fe",
   "metadata": {},
   "source": [
    "- 取模\n",
    "    - **运算符**：`%`\n",
    "    - **优先级**：2"
   ]
  },
  {
   "cell_type": "code",
   "execution_count": 14,
   "id": "c33e6c1f",
   "metadata": {
    "scrolled": false
   },
   "outputs": [
    {
     "data": {
      "text/plain": [
       "5"
      ]
     },
     "execution_count": 14,
     "metadata": {},
     "output_type": "execute_result"
    }
   ],
   "source": [
    "17%6"
   ]
  },
  {
   "cell_type": "markdown",
   "id": "11ae15d8",
   "metadata": {},
   "source": [
    "- 幂\n",
    "    - **运算符**：`**`\n",
    "    - **优先级**：1"
   ]
  },
  {
   "cell_type": "code",
   "execution_count": 15,
   "id": "f1065276",
   "metadata": {
    "scrolled": false
   },
   "outputs": [
    {
     "data": {
      "text/plain": [
       "27"
      ]
     },
     "execution_count": 15,
     "metadata": {},
     "output_type": "execute_result"
    }
   ],
   "source": [
    "3**3"
   ]
  },
  {
   "cell_type": "markdown",
   "id": "acc09837",
   "metadata": {},
   "source": [
    "- 整除\n",
    "    - **运算符**：`//`\n",
    "    - **优先级**：2"
   ]
  },
  {
   "cell_type": "code",
   "execution_count": 16,
   "id": "11275a78",
   "metadata": {
    "scrolled": false
   },
   "outputs": [
    {
     "data": {
      "text/plain": [
       "3"
      ]
     },
     "execution_count": 16,
     "metadata": {},
     "output_type": "execute_result"
    }
   ],
   "source": [
    "25//7"
   ]
  },
  {
   "cell_type": "markdown",
   "id": "6237c4b2",
   "metadata": {},
   "source": [
    "#### **关系运算符**\n",
    "\n",
    "又称比较运算符，用于比较两个值的大小，运算结果为布尔值\n",
    "\n",
    "- `==` 等于"
   ]
  },
  {
   "cell_type": "code",
   "execution_count": 17,
   "id": "c9376284",
   "metadata": {
    "scrolled": false
   },
   "outputs": [
    {
     "data": {
      "text/plain": [
       "False"
      ]
     },
     "execution_count": 17,
     "metadata": {},
     "output_type": "execute_result"
    }
   ],
   "source": [
    "10==20"
   ]
  },
  {
   "cell_type": "markdown",
   "id": "1f05215a",
   "metadata": {},
   "source": [
    "- `>` 大于"
   ]
  },
  {
   "cell_type": "code",
   "execution_count": 18,
   "id": "9c0dcd94",
   "metadata": {
    "scrolled": false
   },
   "outputs": [
    {
     "data": {
      "text/plain": [
       "False"
      ]
     },
     "execution_count": 18,
     "metadata": {},
     "output_type": "execute_result"
    }
   ],
   "source": [
    "10>20"
   ]
  },
  {
   "cell_type": "markdown",
   "id": "0583a127",
   "metadata": {},
   "source": [
    "- `<` 小于"
   ]
  },
  {
   "cell_type": "code",
   "execution_count": 19,
   "id": "5b79a60d",
   "metadata": {
    "scrolled": false
   },
   "outputs": [
    {
     "data": {
      "text/plain": [
       "True"
      ]
     },
     "execution_count": 19,
     "metadata": {},
     "output_type": "execute_result"
    }
   ],
   "source": [
    "10<20"
   ]
  },
  {
   "cell_type": "markdown",
   "id": "054c6627",
   "metadata": {},
   "source": [
    "- `>=` 大于等于"
   ]
  },
  {
   "cell_type": "code",
   "execution_count": 20,
   "id": "d030a6fd",
   "metadata": {
    "scrolled": false
   },
   "outputs": [
    {
     "data": {
      "text/plain": [
       "False"
      ]
     },
     "execution_count": 20,
     "metadata": {},
     "output_type": "execute_result"
    }
   ],
   "source": [
    "10>=20"
   ]
  },
  {
   "cell_type": "markdown",
   "id": "f4efc934",
   "metadata": {},
   "source": [
    "- `<=` 小于等于"
   ]
  },
  {
   "cell_type": "code",
   "execution_count": 21,
   "id": "4fe873d7",
   "metadata": {
    "scrolled": false
   },
   "outputs": [
    {
     "data": {
      "text/plain": [
       "True"
      ]
     },
     "execution_count": 21,
     "metadata": {},
     "output_type": "execute_result"
    }
   ],
   "source": [
    "10<=20"
   ]
  },
  {
   "cell_type": "markdown",
   "id": "f7eb9f4b",
   "metadata": {},
   "source": [
    "- `!=` 不等于"
   ]
  },
  {
   "cell_type": "code",
   "execution_count": 22,
   "id": "5c6b7d55",
   "metadata": {
    "scrolled": false
   },
   "outputs": [
    {
     "data": {
      "text/plain": [
       "True"
      ]
     },
     "execution_count": 22,
     "metadata": {},
     "output_type": "execute_result"
    }
   ],
   "source": [
    "10!=20"
   ]
  },
  {
   "cell_type": "markdown",
   "id": "03bc521b",
   "metadata": {},
   "source": [
    "#### **逻辑运算符**\n",
    "\n",
    "用于对关系表达式或布尔值进行逻辑运算，运算结果为布尔值。\n",
    "\n",
    "-   非\n",
    "    -   **运算符**：`not`\n",
    "\n",
    "    -   **优先级**：最先"
   ]
  },
  {
   "cell_type": "code",
   "execution_count": 23,
   "id": "a5a0091e",
   "metadata": {
    "scrolled": false
   },
   "outputs": [
    {
     "data": {
      "text/plain": [
       "False"
      ]
     },
     "execution_count": 23,
     "metadata": {},
     "output_type": "execute_result"
    }
   ],
   "source": [
    "not True"
   ]
  },
  {
   "cell_type": "code",
   "execution_count": 24,
   "id": "6e9347a5",
   "metadata": {
    "scrolled": false
   },
   "outputs": [
    {
     "data": {
      "text/plain": [
       "True"
      ]
     },
     "execution_count": 24,
     "metadata": {},
     "output_type": "execute_result"
    }
   ],
   "source": [
    "not False"
   ]
  },
  {
   "cell_type": "markdown",
   "id": "e9b4f632",
   "metadata": {},
   "source": [
    "-   与\n",
    "    -   **运算符**：`and`\n",
    "\n",
    "    -   **优先级**：其次"
   ]
  },
  {
   "cell_type": "code",
   "execution_count": 25,
   "id": "ca51b9b4",
   "metadata": {
    "scrolled": false
   },
   "outputs": [
    {
     "data": {
      "text/plain": [
       "True"
      ]
     },
     "execution_count": 25,
     "metadata": {},
     "output_type": "execute_result"
    }
   ],
   "source": [
    "True and True"
   ]
  },
  {
   "cell_type": "code",
   "execution_count": 26,
   "id": "03cd8051",
   "metadata": {
    "scrolled": false
   },
   "outputs": [
    {
     "data": {
      "text/plain": [
       "False"
      ]
     },
     "execution_count": 26,
     "metadata": {},
     "output_type": "execute_result"
    }
   ],
   "source": [
    "True and False"
   ]
  },
  {
   "cell_type": "code",
   "execution_count": 27,
   "id": "d76fda29",
   "metadata": {
    "scrolled": false
   },
   "outputs": [
    {
     "data": {
      "text/plain": [
       "False"
      ]
     },
     "execution_count": 27,
     "metadata": {},
     "output_type": "execute_result"
    }
   ],
   "source": [
    "False and True"
   ]
  },
  {
   "cell_type": "code",
   "execution_count": 28,
   "id": "9251368e",
   "metadata": {
    "scrolled": false
   },
   "outputs": [
    {
     "data": {
      "text/plain": [
       "False"
      ]
     },
     "execution_count": 28,
     "metadata": {},
     "output_type": "execute_result"
    }
   ],
   "source": [
    "False and False"
   ]
  },
  {
   "cell_type": "markdown",
   "id": "339c9a7a",
   "metadata": {},
   "source": [
    "-   或\n",
    "    -   **运算符**：`or`\n",
    "\n",
    "    -   **优先级**：最后"
   ]
  },
  {
   "cell_type": "code",
   "execution_count": 29,
   "id": "28bf4084",
   "metadata": {
    "scrolled": false
   },
   "outputs": [
    {
     "data": {
      "text/plain": [
       "True"
      ]
     },
     "execution_count": 29,
     "metadata": {},
     "output_type": "execute_result"
    }
   ],
   "source": [
    "True or True"
   ]
  },
  {
   "cell_type": "code",
   "execution_count": 30,
   "id": "44d90ca4",
   "metadata": {
    "scrolled": false
   },
   "outputs": [
    {
     "data": {
      "text/plain": [
       "True"
      ]
     },
     "execution_count": 30,
     "metadata": {},
     "output_type": "execute_result"
    }
   ],
   "source": [
    "True or False"
   ]
  },
  {
   "cell_type": "code",
   "execution_count": 31,
   "id": "45d36679",
   "metadata": {
    "scrolled": false
   },
   "outputs": [
    {
     "data": {
      "text/plain": [
       "True"
      ]
     },
     "execution_count": 31,
     "metadata": {},
     "output_type": "execute_result"
    }
   ],
   "source": [
    "False or True"
   ]
  },
  {
   "cell_type": "code",
   "execution_count": 32,
   "id": "6039a574",
   "metadata": {
    "scrolled": false
   },
   "outputs": [
    {
     "data": {
      "text/plain": [
       "False"
      ]
     },
     "execution_count": 32,
     "metadata": {},
     "output_type": "execute_result"
    }
   ],
   "source": [
    "False or False"
   ]
  },
  {
   "cell_type": "markdown",
   "id": "c4b6bdbc",
   "metadata": {},
   "source": [
    "#### **注意**\n",
    "\n",
    "-   括号运算优先级最高，应先计算\n",
    "\n",
    "-   三种运算符优先级为：算术运算符\\>关系运算符\\>逻辑运算符\n",
    "\n",
    "## Python 中内置函数与模块导入\n",
    "\n",
    "### 内置函数\n",
    "\n",
    "-   已经预定义并且已经实现的\n",
    "\n",
    "-   可以直接调用\n",
    "\n",
    "-   函数名 (参数列表)，多个参数值之间以逗号分隔\n",
    "\n",
    "-   例："
   ]
  },
  {
   "cell_type": "code",
   "execution_count": 33,
   "id": "1adab669",
   "metadata": {
    "scrolled": false
   },
   "outputs": [
    {
     "data": {
      "text/plain": [
       "1"
      ]
     },
     "execution_count": 33,
     "metadata": {},
     "output_type": "execute_result"
    }
   ],
   "source": [
    "abs(-1)    # 取-1的绝对值"
   ]
  },
  {
   "cell_type": "code",
   "execution_count": 34,
   "id": "602b05c0",
   "metadata": {
    "scrolled": false
   },
   "outputs": [
    {
     "data": {
      "text/plain": [
       "3.14"
      ]
     },
     "execution_count": 34,
     "metadata": {},
     "output_type": "execute_result"
    }
   ],
   "source": [
    "round(3.1415926, 2)    # 将3.1415926四舍五入到小数点后第二位"
   ]
  },
  {
   "cell_type": "markdown",
   "id": "72993fc5",
   "metadata": {},
   "source": [
    "### 模块\n",
    "\n",
    "-   一系列常量、变量、函数和类的集合\n",
    "\n",
    "-   存放在一个程序文件中\n",
    "\n",
    "-   import 模块名\n",
    "\n",
    "-   例："
   ]
  },
  {
   "cell_type": "code",
   "execution_count": 35,
   "id": "8b84f9a4",
   "metadata": {
    "scrolled": false
   },
   "outputs": [
    {
     "name": "stdout",
     "output_type": "stream",
     "text": [
      "Traceback (most recent call last):\n",
      "  File \"<stdin>\", line 1, in <module>\n",
      "NameError: name 'math' is not defined\n"
     ]
    }
   ],
   "source": [
    "%%space module_demo_1\n",
    "try:\n",
    "    \n",
    "    # 示例程序：\n",
    "    \n",
    "    math.factorial(6)    # 未提前导入模块，报错\n",
    "    \n",
    "except:\n",
    "    print(\"Traceback (most recent call last):\")\n",
    "    print(\"  File \\\"<stdin>\\\", line 1, in <module>\")\n",
    "    print(\"NameError: name 'math' is not defined\")"
   ]
  },
  {
   "cell_type": "code",
   "execution_count": 36,
   "id": "fc34c059",
   "metadata": {},
   "outputs": [
    {
     "data": {
      "text/plain": [
       "720"
      ]
     },
     "execution_count": 36,
     "metadata": {},
     "output_type": "execute_result"
    }
   ],
   "source": [
    "%%space module_demo_2\n",
    "import math          # 导入math模块 \n",
    "math.factorial(6)    # 调用math模块中factorial函数，求6的阶乘"
   ]
  },
  {
   "cell_type": "markdown",
   "id": "d622b412",
   "metadata": {},
   "source": [
    "## Python 中的字符串\n",
    "\n",
    "-   存储和表示文本\n",
    "\n",
    "-   最基本单位：字符\n",
    "\n",
    "    -   可见字符：英文大小写字母、数字字符、标点符号和一些常见符号\n",
    "    -   不可见字符：回车、空格等\n",
    "\n",
    "### 通用操作"
   ]
  },
  {
   "cell_type": "code",
   "execution_count": 37,
   "id": "9be26283",
   "metadata": {},
   "outputs": [],
   "source": [
    "%%space string_demo\n",
    "str1 = \"Hello\""
   ]
  },
  {
   "cell_type": "markdown",
   "id": "5b84c715",
   "metadata": {},
   "source": [
    "- `x+y`\n",
    "     - 连接两个字符串x和y"
   ]
  },
  {
   "cell_type": "code",
   "execution_count": 38,
   "id": "ce7875ec",
   "metadata": {},
   "outputs": [
    {
     "data": {
      "text/plain": [
       "'HelloPython'"
      ]
     },
     "execution_count": 38,
     "metadata": {},
     "output_type": "execute_result"
    }
   ],
   "source": [
    "%%space string_demo\n",
    "str1 + \"Python\""
   ]
  },
  {
   "cell_type": "markdown",
   "id": "5896c11f",
   "metadata": {},
   "source": [
    "- `x*n`\n",
    "    - 复制n次字符串x"
   ]
  },
  {
   "cell_type": "code",
   "execution_count": 39,
   "id": "e8542aef",
   "metadata": {},
   "outputs": [
    {
     "data": {
      "text/plain": [
       "'HelloHelloHello'"
      ]
     },
     "execution_count": 39,
     "metadata": {},
     "output_type": "execute_result"
    }
   ],
   "source": [
    "%%space string_demo\n",
    "str1*3"
   ]
  },
  {
   "cell_type": "markdown",
   "id": "39a9a593",
   "metadata": {},
   "source": [
    "- `len(x)`\n",
    "    - 返回字符串x的长度"
   ]
  },
  {
   "cell_type": "code",
   "execution_count": 40,
   "id": "5730b563",
   "metadata": {},
   "outputs": [
    {
     "data": {
      "text/plain": [
       "5"
      ]
     },
     "execution_count": 40,
     "metadata": {},
     "output_type": "execute_result"
    }
   ],
   "source": [
    "%%space string_demo\n",
    "len(str1)"
   ]
  },
  {
   "cell_type": "markdown",
   "id": "2aabee3f",
   "metadata": {},
   "source": [
    "## Python 中的列表\n",
    "\n",
    "-   把大量的数据放在一起，对其进行集中处理\n",
    "\n",
    "-   以“\\[\\]”包围的数据集合，不同成员间以“，”分隔\n",
    "\n",
    "-   可以包含任何数据类型，也可以包含另一个列表\n",
    "\n",
    "-   可以通过下标 (index) 来访问列表中的成员\n",
    "\n",
    "### 通用操作"
   ]
  },
  {
   "cell_type": "code",
   "execution_count": 41,
   "id": "8ca4fbf7",
   "metadata": {},
   "outputs": [
    {
     "data": {
      "text/plain": [
       "['a', 'b', 'c', 'd', 'e']"
      ]
     },
     "execution_count": 41,
     "metadata": {},
     "output_type": "execute_result"
    }
   ],
   "source": [
    "%%space list_demo\n",
    "arr = ['a', 'b', 'c', 'd', 'e']\n",
    "arr"
   ]
  },
  {
   "cell_type": "markdown",
   "id": "0daaada6",
   "metadata": {},
   "source": [
    "- 获取列表中某个位置的元素\n",
    "    - `列表名[下标]`\n",
    "    - 下标=第n位-1"
   ]
  },
  {
   "cell_type": "code",
   "execution_count": 42,
   "id": "039fc53f",
   "metadata": {},
   "outputs": [
    {
     "data": {
      "text/plain": [
       "'a'"
      ]
     },
     "execution_count": 42,
     "metadata": {},
     "output_type": "execute_result"
    }
   ],
   "source": [
    "%%space list_demo\n",
    "arr[0]"
   ]
  },
  {
   "cell_type": "code",
   "execution_count": 43,
   "id": "13a07d55",
   "metadata": {},
   "outputs": [
    {
     "data": {
      "text/plain": [
       "'c'"
      ]
     },
     "execution_count": 43,
     "metadata": {},
     "output_type": "execute_result"
    }
   ],
   "source": [
    "%%space list_demo\n",
    "arr[2]"
   ]
  },
  {
   "cell_type": "markdown",
   "id": "90b57eb7",
   "metadata": {},
   "source": [
    "- 向列表中添加元素\n",
    "    - `列表名.append(元素)`\n",
    "    - 被添加的元素在列表的最后"
   ]
  },
  {
   "cell_type": "code",
   "execution_count": 44,
   "id": "99497b58",
   "metadata": {},
   "outputs": [
    {
     "data": {
      "text/plain": [
       "['a', 'b', 'c', 'd', 'e', 'f']"
      ]
     },
     "execution_count": 44,
     "metadata": {},
     "output_type": "execute_result"
    }
   ],
   "source": [
    "%%space list_demo\n",
    "arr.append('f')\n",
    "arr"
   ]
  },
  {
   "cell_type": "markdown",
   "id": "dc23da6d",
   "metadata": {},
   "source": [
    "- 向列表中插入元素\n",
    "    - `列表名.insert(下标, 元素)`\n",
    "    - 被添加的元素在修改后的列表中位于指定的下标处"
   ]
  },
  {
   "cell_type": "code",
   "execution_count": 45,
   "id": "e15b8f4b",
   "metadata": {},
   "outputs": [
    {
     "data": {
      "text/plain": [
       "['a', 'z', 'b', 'c', 'd', 'e', 'f']"
      ]
     },
     "execution_count": 45,
     "metadata": {},
     "output_type": "execute_result"
    }
   ],
   "source": [
    "%%space list_demo\n",
    "arr.insert(1, 'z')\n",
    "arr"
   ]
  },
  {
   "cell_type": "markdown",
   "id": "7cafbf8b",
   "metadata": {},
   "source": [
    "- 移除列表中的元素\n",
    "    - `列表名.remove(元素)`\n",
    "    - 移除列表中第一个和指定元素匹配的元素"
   ]
  },
  {
   "cell_type": "code",
   "execution_count": 46,
   "id": "007c39b7",
   "metadata": {},
   "outputs": [
    {
     "data": {
      "text/plain": [
       "['a', 'z', 'b', 'd', 'e', 'f']"
      ]
     },
     "execution_count": 46,
     "metadata": {},
     "output_type": "execute_result"
    }
   ],
   "source": [
    "%%space list_demo\n",
    "arr.remove('c')\n",
    "arr"
   ]
  },
  {
   "cell_type": "markdown",
   "id": "7fd55d72",
   "metadata": {},
   "source": [
    "## Python 中的注释\n",
    "\n",
    "-   不运行，仅对代码起解释作用\n",
    "\n",
    "-   **用自然语言编写**\n",
    "\n",
    "-   ......（代码） \\# 注释内容\n",
    "\n",
    "-   例：\n",
    "\n",
    "    ``` python\n",
    "    print(a)   # 输出变量a\n",
    "    ```"
   ]
  }
 ],
 "metadata": {
  "kernelspec": {
   "display_name": "Python 3 (ipykernel)",
   "language": "python",
   "name": "python3"
  },
  "language_info": {
   "codemirror_mode": {
    "name": "ipython",
    "version": 3
   },
   "file_extension": ".py",
   "mimetype": "text/x-python",
   "name": "python",
   "nbconvert_exporter": "python",
   "pygments_lexer": "ipython3",
   "version": "3.9.13"
  }
 },
 "nbformat": 4,
 "nbformat_minor": 5
}
